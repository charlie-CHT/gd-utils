{
  "nbformat": 4,
  "nbformat_minor": 0,
  "metadata": {
    "colab": {
      "name": "Colab_gd_utils_v1.ipynb",
      "provenance": [],
      "collapsed_sections": [],
      "toc_visible": true
    },
    "kernelspec": {
      "name": "python3",
      "display_name": "Python 3"
    }
  },
  "cells": [
    {
      "cell_type": "markdown",
      "metadata": {
        "id": "3Z8cK8h2Avbv",
        "colab_type": "text"
      },
      "source": [
        "### <font size=5px color=\"#95C7AE\">防止Google Colab自動斷開代碼:</font>\n",
        "<p><font size=3px > 每60分鐘自動運行代碼刷新，解除90分鐘斷開限制.\n",
        "<p><font size=3px > 使用方法：colab頁面按下 F12或者 Ctrl+Shift+I    (mac按 Option+Command+I) 在console（控制台） 輸入以下代碼並回車. </p><b>複製以下代碼粘貼在流覽器console！！不要關閉流覽器以免失效</b>\n",
        "\n",
        "\n",
        "```javascript\n",
        "function ConnectButton(){\n",
        "    console.log(\"Connect pushed\"); \n",
        "    document.querySelector(\"#connect\").click() \n",
        "}\n",
        "setInterval(ConnectButton,60000);\n",
        "```"
      ]
    },
    {
      "cell_type": "code",
      "metadata": {
        "id": "jtClEMAMLVHw",
        "colab_type": "code",
        "cellView": "form",
        "colab": {}
      },
      "source": [
        "#@markdown <h3>← 輸入了代碼後運行以防止斷開</h>\n",
        "\n",
        "\n",
        "import IPython\n",
        "from google.colab import output\n",
        "\n",
        "display(IPython.display.Javascript('''\n",
        " function ClickConnect(){\n",
        "   btn = document.querySelector(\"colab-connect-button\")\n",
        "   if (btn != null){\n",
        "     console.log(\"Click colab-connect-button\"); \n",
        "     btn.click() \n",
        "     }\n",
        "   \n",
        "   btn = document.getElementById('ok')\n",
        "   if (btn != null){\n",
        "     console.log(\"Click reconnect\"); \n",
        "     btn.click() \n",
        "     }\n",
        "  }\n",
        "  \n",
        "setInterval(ClickConnect,60000)\n",
        "'''))\n",
        "\n",
        "print(\"Done.\")"
      ],
      "execution_count": null,
      "outputs": []
    },
    {
      "cell_type": "markdown",
      "metadata": {
        "colab_type": "text",
        "id": "ICXqpDfanEX-"
      },
      "source": [
        "### <font size=5px color=\"#95C7AE\">第一次使用必讀:</font>\n",
        "<p><font size=3px color=\"#95C7AE\">第一次使用請將SA的 json檔放在 <b>sa</b>  資料夾下，並將資料夾上傳至你下面將要掛載的網盤的根目錄。之後先運行頁面最下方的打包sa資料夾命令，因此命令只需運行一次，故放在最下方</font>\n",
        "\n",
        "\n",
        "（如果你使用過gclone. Autoclone, FolderClone可以在相應的account資料夾下發現他們,如果從未使用過，請根據原作者GitHub的介紹生成）\n",
        "\n",
        "<p><font size=3px >本Colab基於iwestlin大佬的Google百寶箱製作而成，並作了相應修改使其適合在Colab上運行，原項目位址： https://github.com/iwestlin/gd-utils\n"
      ]
    },
    {
      "cell_type": "code",
      "metadata": {
        "id": "VoQCd8Mnpp9q",
        "colab_type": "code",
        "cellView": "form",
        "colab": {}
      },
      "source": [
        "#@markdown <h3>← 運行只需點擊此處\n",
        "#@markdown <br><left><img src='https://upload.wikimedia.org/wikipedia/commons/thumb/d/da/Google_Drive_logo.png/600px-Google_Drive_logo.png' height=\"50\" alt=\"Gdrive-logo\"/></left>\n",
        "#@markdown <h2>掛載Google雲盤，並安裝gd-utils\n",
        "#@markdown <h3>此處需要掛載的雲盤只需存有sa.zip檔，不必與轉存檔有關聯\n",
        "from google.colab import drive\n",
        "from IPython.display import clear_output\n",
        "\n",
        "drive.mount('/content/drive')\n",
        "\n",
        "clear_output()\n",
        "print(\"開始安裝gd-utils\")\n",
        "\n",
        "!curl -sL https://deb.nodesource.com/setup_14.x | sudo -E bash -\n",
        "clear_output()\n",
        "!sudo apt-get install -y nodejs\n",
        "clear_output()\n",
        "!git clone https://github.com/iErics/gd-utils\n",
        "clear_output()\n",
        "%cd /content/gd-utils\n",
        "!npm install --unsafe-perm=true --allow-root\n",
        "\n",
        "clear_output()\n",
        "print(\"安裝成功，開始配置sa資料夾\")\n",
        "\n",
        "%cp /content/drive/\"My Drive\"/sa.zip /content/gd-utils\n",
        "!unzip -o -q /content/gd-utils/sa.zip -d /content/gd-utils\n",
        "\n",
        "clear_output()\n",
        "print(\"配置完成\")\n",
        "\n"
      ],
      "execution_count": null,
      "outputs": []
    },
    {
      "cell_type": "code",
      "metadata": {
        "id": "GIuVg9Q7yAta",
        "colab_type": "code",
        "cellView": "form",
        "colab": {}
      },
      "source": [
        "#@markdown <h3>排程一</h3>\n",
        "#@markdown <h3>若需要連續排程ctrl+排程,選取完成後ctrl+shift+Enter</h3>\n",
        "source = \"\" #@param {type:\"string\"}\n",
        "destination = \"\" #@param {type:\"string\"}\n",
        "\n",
        "\n",
        "print(\"-------排程一複製中....-------\\n\")\n",
        "\n",
        "#!multifolderclone -s \"$source\" -d \"$destination\"\n",
        "\n",
        "!node --max-old-space-size=4096 copy \"$source\" \"$destination\"  -S\n",
        "\n",
        "\n",
        "print(\"\\n----------排程一複製完成----------\\n\")\n",
        "\n",
        "print(\"-------來源端統計開始中....-------\\n\")\n",
        "\n",
        "#!multifolderclone -s \"$source\" -d \"$destination\"\n",
        "\n",
        "!node --max-old-space-size=4096 count \"$source\" \"-u\" -S\n",
        "\n",
        "\n",
        "print(\"\\n----------統計完成----------\\n\")"
      ],
      "execution_count": null,
      "outputs": []
    },
    {
      "cell_type": "code",
      "metadata": {
        "id": "RmGZNsEZ3-21",
        "colab_type": "code",
        "cellView": "form",
        "colab": {}
      },
      "source": [
        "#@markdown <h3>排程一統計</h3>\n",
        "\n",
        "FolderID = \"\" #@param {type:\"string\"}\n",
        "Options = \"-u\" #@param {type:\"string\"}\n",
        "\n",
        "print(\"-------排程一統計開始中....-------\\n\")\n",
        "\n",
        "#!multifolderclone -s \"$source\" -d \"$destination\"\n",
        "\n",
        "!node --max-old-space-size=4096 count \"$FolderID\" \"$Options:\" -S\n",
        "\n",
        "\n",
        "print(\"\\n----------排程一統計完成----------\\n\")"
      ],
      "execution_count": null,
      "outputs": []
    },
    {
      "cell_type": "code",
      "metadata": {
        "id": "qkzbFzBa0jmj",
        "colab_type": "code",
        "cellView": "form",
        "colab": {}
      },
      "source": [
        "#@markdown <h3>排程二</h3>\n",
        "#@markdown <h3>若需要連續排程ctrl+排程,選取完成後ctrl+shift+Enter</h3>\n",
        "source = \"\" #@param {type:\"string\"}\n",
        "destination = \"\" #@param {type:\"string\"}\n",
        "\n",
        "\n",
        "print(\"-------排程二複製中....-------\\n\")\n",
        "\n",
        "#!multifolderclone -s \"$source\" -d \"$destination\"\n",
        "\n",
        "!node --max-old-space-size=4096 copy \"$source\" \"$destination\"  -S\n",
        "\n",
        "\n",
        "print(\"\\n----------排程二複製完成----------\\n\")\n",
        "\n",
        "print(\"-------來源端統計開始中....-------\\n\")\n",
        "\n",
        "#!multifolderclone -s \"$source\" -d \"$destination\"\n",
        "\n",
        "!node --max-old-space-size=4096 count \"$source\" \"-u\" -S\n",
        "\n",
        "\n",
        "print(\"\\n----------統計完成----------\\n\")"
      ],
      "execution_count": null,
      "outputs": []
    },
    {
      "cell_type": "code",
      "metadata": {
        "id": "gg_FIb7246HZ",
        "colab_type": "code",
        "cellView": "form",
        "colab": {}
      },
      "source": [
        "#@markdown <h3>排程二統計</h3>\n",
        "\n",
        "FolderID = \"\" #@param {type:\"string\"}\n",
        "Options = \"-u\" #@param {type:\"string\"}\n",
        "\n",
        "print(\"-------排程二統計開始中....-------\\n\")\n",
        "\n",
        "#!multifolderclone -s \"$source\" -d \"$destination\"\n",
        "\n",
        "!node --max-old-space-size=4096 count \"$FolderID\" \"$Options:\" -S\n",
        "\n",
        "\n",
        "print(\"\\n----------排程二統計完成----------\\n\")"
      ],
      "execution_count": null,
      "outputs": []
    },
    {
      "cell_type": "code",
      "metadata": {
        "id": "qm73GXXk0vHR",
        "colab_type": "code",
        "cellView": "form",
        "colab": {}
      },
      "source": [
        "#@markdown <h3>排程三</h3>\n",
        "#@markdown <h3>若需要連續排程ctrl+排程,選取完成後ctrl+shift+Enter</h3>\n",
        "source = \"\" #@param {type:\"string\"}\n",
        "destination = \"\" #@param {type:\"string\"}\n",
        "\n",
        "\n",
        "print(\"-------排程三複製中....-------\\n\")\n",
        "\n",
        "#!multifolderclone -s \"$source\" -d \"$destination\"\n",
        "\n",
        "!node --max-old-space-size=4096 copy \"$source\" \"$destination\"  -S\n",
        "\n",
        "\n",
        "print(\"\\n----------排程三複製完成----------\\n\")\n",
        "\n",
        "print(\"-------來源端統計開始中....-------\\n\")\n",
        "\n",
        "#!multifolderclone -s \"$source\" -d \"$destination\"\n",
        "\n",
        "!node --max-old-space-size=4096 count \"$source\" \"-u\" -S\n",
        "\n",
        "\n",
        "print(\"\\n----------統計完成----------\\n\")"
      ],
      "execution_count": null,
      "outputs": []
    },
    {
      "cell_type": "code",
      "metadata": {
        "id": "rE-CK42B5BGw",
        "colab_type": "code",
        "cellView": "form",
        "colab": {}
      },
      "source": [
        "#@markdown <h3>排程三統計</h3>\n",
        "\n",
        "FolderID = \"\" #@param {type:\"string\"}\n",
        "Options = \"-u\" #@param {type:\"string\"}\n",
        "\n",
        "print(\"-------排程三統計開始中....-------\\n\")\n",
        "\n",
        "#!multifolderclone -s \"$source\" -d \"$destination\"\n",
        "\n",
        "!node --max-old-space-size=4096 count \"$FolderID\" \"$Options:\" -S\n",
        "\n",
        "\n",
        "print(\"\\n----------排程一統計完成----------\\n\")"
      ],
      "execution_count": null,
      "outputs": []
    },
    {
      "cell_type": "code",
      "metadata": {
        "id": "uVWTQI9bZjaF",
        "colab_type": "code",
        "cellView": "form",
        "colab": {}
      },
      "source": [
        "#@markdown <h3>統計區</h3>\n",
        "#@markdown <h4>Options 為附加命令，如常用的 -u 表示強制從線上獲取資訊(無視是否存在本地緩存)，可不填。</h4>\n",
        "FolderID = \"\" #@param {type:\"string\"}\n",
        "Options = \"-u\" #@param {type:\"string\"}\n",
        "\n",
        "\n",
        "\n",
        "\n",
        "\n",
        "print(\"-------統計開始中....-------\\n\")\n",
        "\n",
        "#!multifolderclone -s \"$source\" -d \"$destination\"\n",
        "\n",
        "!node --max-old-space-size=4096 count \"$FolderID\" \"$Options:\" -S\n",
        "\n",
        "\n",
        "print(\"\\n----------統計完成----------\\n\")"
      ],
      "execution_count": null,
      "outputs": []
    },
    {
      "cell_type": "code",
      "metadata": {
        "id": "dRaSe6ujk2RK",
        "colab_type": "code",
        "cellView": "form",
        "colab": {}
      },
      "source": [
        "#@markdown <h3>查看複製命令説明資訊</h3>\n",
        "!./copy -h"
      ],
      "execution_count": null,
      "outputs": []
    },
    {
      "cell_type": "code",
      "metadata": {
        "id": "xMtlQIu51GGT",
        "colab_type": "code",
        "cellView": "form",
        "colab": {}
      },
      "source": [
        "#@markdown <h3>查看統計命令説明資訊</h3>\n",
        "!./count -h"
      ],
      "execution_count": null,
      "outputs": []
    },
    {
      "cell_type": "code",
      "metadata": {
        "id": "lV2AFyDzReeE",
        "colab_type": "code",
        "cellView": "form",
        "colab": {}
      },
      "source": [
        "#@markdown <h3>打包sa資料夾請看這裡</h3>\n",
        "MODE = \"ZIP\"\n",
        "FILENAME = \"sa.zip\" \n",
        "PATH_TO_FILE = \"/content/drive/My Drive/sa\"\n",
        "ARCHIVE_PASSWORD = \"\"\n",
        "compress = 1\n",
        "from pathlib import PurePosixPath\n",
        "from IPython.display import clear_output\n",
        "from google.colab import drive\n",
        "drive.mount('/content/drive')\n",
        "\n",
        "pathList = PATH_TO_FILE.split('|')\n",
        "if MODE == \"ZIP\":\n",
        "    if not FILENAME:\n",
        "      FILENAME = \"/content/NEW_FILE.ZIP\"\n",
        "    if ARCHIVE_PASSWORD:\n",
        "      passADD = f'--password \"{ARCHIVE_PASSWORD}\"'\n",
        "    else:\n",
        "      passADD = ''\n",
        "    for part in pathList:\n",
        "      pathdic = PurePosixPath(part.strip())\n",
        "      parent = pathdic.parent\n",
        "      partName = pathdic.parts[-1]\n",
        "      cmd = f'cd \"{parent}\" && zip {passADD} -{compress} -v -r -u \"{FILENAME}\" \"{partName}\"'\n",
        "      !$cmd\n",
        "clear_output()\n",
        "print(\"\\n----------打包成功----------\\n\")"
      ],
      "execution_count": null,
      "outputs": []
    }
  ]
}